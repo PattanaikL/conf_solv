{
 "cells": [
  {
   "cell_type": "code",
   "execution_count": 1,
   "metadata": {},
   "outputs": [],
   "source": [
    "from conf_solv.model.model import ConfSolv\n",
    "from conf_solv.trainer import LitConfSolvModule\n",
    "from conf_solv.dataloaders.loader import create_pairdata\n",
    "from conf_solv.dataloaders.features import MolGraph\n",
    "from conf_solv.dataloaders.collate import Collater\n",
    "\n",
    "import os\n",
    "from joblib import Parallel, delayed\n",
    "from ase import Atoms, io\n",
    "import numpy as np\n",
    "\n",
    "import torch\n",
    "from torch_geometric.data import Batch"
   ]
  },
  {
   "cell_type": "code",
   "execution_count": 2,
   "metadata": {},
   "outputs": [],
   "source": [
    "def divide_solute_mols(solute_mols, n_anchor_mols=10, n_threshold_mols=50):\n",
    "\n",
    "    anchor_mols = solute_mols[:n_anchor_mols]\n",
    "    other_mols = solute_mols[n_anchor_mols:]\n",
    "    n_chunks = int(np.ceil(len(other_mols) / (n_threshold_mols - n_anchor_mols)))\n",
    "    batch_ids = [(i*(n_threshold_mols - n_anchor_mols), (i+1)*(n_threshold_mols - n_anchor_mols)) for i in range(n_chunks)]\n",
    "    batch_solute_mols = [anchor_mols + other_mols[a:b] for (a,b) in batch_ids]\n",
    "    \n",
    "    return batch_solute_mols\n",
    "\n",
    "\n",
    "def load_lightning_model(trained_model_path):\n",
    "    models = [LitConfSolvModule.load_from_checkpoint(trained_model_path)]\n",
    "    return models\n",
    "\n",
    "\n",
    "def load_lightning_model_parallel(parent_model_dir, n_models=1):\n",
    "    \n",
    "    model_paths = []\n",
    "    for root, dirs, files in os.walk(parent_model_dir):\n",
    "        for file in files:\n",
    "            if file.endswith(\"best_model.ckpt\"):\n",
    "                 model_paths.append(os.path.join(root, file))\n",
    "                    \n",
    "    model_paths = sorted(model_paths)[:n_models]\n",
    "    \n",
    "    models = Parallel(n_jobs=-1)(delayed(load_lightning_model)(p) for p in model_paths)\n",
    "    models = [m for ms in models for m in ms]\n",
    "    return models\n",
    "\n",
    "\n",
    "# for batch creation\n",
    "collater = Collater(follow_batch=[\"x_solvent\", \"x_solute\"], exclude_keys=None)"
   ]
  },
  {
   "cell_type": "code",
   "execution_count": 3,
   "metadata": {},
   "outputs": [],
   "source": [
    "# load data\n",
    "\n",
    "data_dir = os.path.abspath('../data/')\n",
    "all_solute_mols = io.read(os.path.join(data_dir, 'Sorbitol.xyz'), index=':')"
   ]
  },
  {
   "cell_type": "code",
   "execution_count": 4,
   "metadata": {},
   "outputs": [],
   "source": [
    "# load models\n",
    "\n",
    "parent_model_dir = '../exps/2022_07_28/random/'\n",
    "models = load_lightning_model_parallel(parent_model_dir, n_models=4)"
   ]
  },
  {
   "cell_type": "code",
   "execution_count": 5,
   "metadata": {},
   "outputs": [],
   "source": [
    "# change solvent_smi for predictions in a different solvent\n",
    "solvent_smi = 'O'\n",
    "solvent_molgraph = MolGraph(solvent_smi)\n",
    "\n",
    "n_threshold_mols = 50  # change this based on available memory\n",
    "n_anchor_mols = 5"
   ]
  },
  {
   "cell_type": "code",
   "execution_count": 6,
   "metadata": {},
   "outputs": [
    {
     "name": "stdout",
     "output_type": "stream",
     "text": [
      "tensor([10.8977, 12.4077, 12.3912, 10.5550, 12.5749, 11.6368, 11.5799, 10.8865,\n",
      "        14.1697, 14.0723, 12.2350, 11.6469, 15.4874, 13.3913, 15.0867, 12.6538,\n",
      "        12.6738, 12.8915, 12.9548, 12.8177, 14.5499, 12.9141, 10.9946, 12.0461,\n",
      "        13.3579, 13.1725, 12.8395, 14.9351, 13.6939, 17.2657, 14.3632, 13.0742,\n",
      "        12.8118, 15.9643, 16.0562, 12.7125, 15.2607, 13.4480, 14.8114, 12.2154,\n",
      "        16.5650, 15.8668, 17.2567, 14.2698, 17.1249, 15.7755, 14.3689, 17.1320,\n",
      "        13.5963, 14.5115, 14.3937, 16.1479, 17.7627, 15.9031, 13.5128, 15.1298,\n",
      "        15.3484, 19.0909, 15.5702, 16.9397, 14.6593, 19.0787, 16.4714, 16.3603,\n",
      "        14.0503, 17.6173, 17.2691, 20.2740, 17.6452, 15.8369, 19.3415, 18.4590,\n",
      "        15.6575, 21.2221, 17.1644, 12.7323, 10.4717, 11.8764, 12.1912,  0.0000,\n",
      "        12.0534, 15.3450,  7.6801,  6.3522, 14.9360,  7.1314,  7.9346, 14.4323,\n",
      "        13.7662, 11.5420, 11.9538, 11.5690, 11.6476,  5.7250, 12.1647, 12.6293,\n",
      "        11.5747, 12.1295, 14.0970, 13.2443, 12.3137,  6.2400, 14.3976, 11.7935,\n",
      "        12.5027, 12.5613, 12.7008, 10.8067, 12.2468, 10.6299, 12.1279, 14.3832,\n",
      "        14.8339, 14.6420, 14.2183, 12.2491, 13.0314,  4.9098, 13.0024, 11.6151,\n",
      "        11.7037, 12.1915, 10.8254,  6.4694,  5.0645,  6.7164,  6.3389],\n",
      "       grad_fn=<MulBackward0>)\n",
      "tensor([3.2601, 3.2439, 3.1971, 3.2121, 3.1661, 3.2532, 3.3779, 3.0197, 3.6634,\n",
      "        3.1446, 3.1493, 3.2475, 3.2064, 2.9884, 3.7399, 3.1741, 3.1545, 3.4120,\n",
      "        2.9795, 3.2025, 3.5114, 3.0391, 2.9048, 2.9042, 2.9705, 3.0910, 3.1224,\n",
      "        3.2004, 3.3457, 3.1689, 2.9712, 3.0477, 3.0960, 3.1086, 3.3716, 3.1498,\n",
      "        3.2737, 3.0090, 3.3519, 3.0926, 3.2557, 3.1827, 3.3251, 3.0094, 2.9384,\n",
      "        2.9026, 3.0192, 2.8867, 2.9398, 3.4089, 2.9337, 3.1990, 2.5847, 3.1985,\n",
      "        2.9947, 3.1578, 2.7205, 2.9182, 2.7021, 3.1929, 3.0861, 3.0381, 3.2059,\n",
      "        3.0617, 3.7217, 3.0503, 2.9389, 2.9733, 3.3164, 3.0245, 3.1929, 3.1504,\n",
      "        3.3572, 3.4352, 3.6295, 2.9429, 3.6333, 2.6694, 3.6635, 0.0000, 1.6006,\n",
      "        2.3683, 1.1633, 1.3653, 2.4060, 1.4945, 1.2025, 2.3146, 2.5852, 3.2958,\n",
      "        2.7385, 2.3566, 1.9153, 1.1776, 2.3444, 1.9400, 2.7751, 2.3434, 2.4808,\n",
      "        2.1586, 1.8477, 1.1040, 2.5197, 2.2059, 2.7540, 3.2298, 2.9183, 2.2840,\n",
      "        2.4543, 2.8631, 2.2522, 2.0138, 2.3790, 2.7648, 2.4229, 1.7370, 1.6644,\n",
      "        1.7182, 2.8533, 2.3293, 2.5585, 2.4521, 3.1224, 1.1407, 1.2414, 1.3833,\n",
      "        1.5061], grad_fn=<MulBackward0>)\n"
     ]
    }
   ],
   "source": [
    "# split input into [n_anchor_mols + (n_threshold_mols-n_anchor_mols)] sections\n",
    "# should only trigger when n_solute_mols > n_threshold_mols\n",
    "# ideally, n_threshold_mols is as large as possible\n",
    "\n",
    "if len(all_solute_mols) > n_threshold_mols:\n",
    "    batch_solute_mols = divide_solute_mols(all_solute_mols,\n",
    "                                           n_anchor_mols=n_anchor_mols,\n",
    "                                           n_threshold_mols=n_threshold_mols)\n",
    "else:\n",
    "    batch_solute_mols = [all_solute_mols]\n",
    "\n",
    "\n",
    "out_final = torch.tensor([])\n",
    "for batch_idx, solute_mols in enumerate(batch_solute_mols):\n",
    "    data = create_pairdata(solvent_molgraph, solute_mols, len(solute_mols))\n",
    "    batch_data = collater([data])\n",
    "\n",
    "    if batch_idx == 0:\n",
    "        out = torch.stack([model(batch_data, len(solute_mols)) for model in models])\n",
    "    else:\n",
    "        out = torch.stack([model(batch_data, len(solute_mols)) for model in models])[:, n_anchor_mols:]\n",
    "    out_final = torch.cat([out_final, out], dim=-1)\n",
    "\n",
    "\n",
    "out_scaled = out_final - out_final.min(dim=1, keepdim=True).values  # scale each prediction relative to lowest energy conformer.\\n\",\n",
    "stds = out_scaled.std(dim=0)\n",
    "preds = out_scaled.mean(dim=0)\n",
    "preds = preds - preds.min()\n",
    "\n",
    "print(preds*0.238846)\n",
    "print(stds*0.238846)"
   ]
  },
  {
   "cell_type": "code",
   "execution_count": null,
   "metadata": {},
   "outputs": [],
   "source": []
  }
 ],
 "metadata": {
  "kernelspec": {
   "display_name": "Python [conda env:ConfSolv] *",
   "language": "python",
   "name": "conda-env-ConfSolv-py"
  },
  "language_info": {
   "codemirror_mode": {
    "name": "ipython",
    "version": 3
   },
   "file_extension": ".py",
   "mimetype": "text/x-python",
   "name": "python",
   "nbconvert_exporter": "python",
   "pygments_lexer": "ipython3",
   "version": "3.7.12"
  },
  "latex_envs": {
   "LaTeX_envs_menu_present": true,
   "autoclose": false,
   "autocomplete": true,
   "bibliofile": "biblio.bib",
   "cite_by": "apalike",
   "current_citInitial": 1,
   "eqLabelWithNumbers": true,
   "eqNumInitial": 1,
   "hotkeys": {
    "equation": "Ctrl-E",
    "itemize": "Ctrl-I"
   },
   "labels_anchors": false,
   "latex_user_defs": false,
   "report_style_numbering": false,
   "user_envs_cfg": false
  },
  "toc": {
   "base_numbering": 1,
   "nav_menu": {},
   "number_sections": true,
   "sideBar": true,
   "skip_h1_title": false,
   "title_cell": "Table of Contents",
   "title_sidebar": "Contents",
   "toc_cell": false,
   "toc_position": {},
   "toc_section_display": true,
   "toc_window_display": false
  },
  "varInspector": {
   "cols": {
    "lenName": 16,
    "lenType": 16,
    "lenVar": 40
   },
   "kernels_config": {
    "python": {
     "delete_cmd_postfix": "",
     "delete_cmd_prefix": "del ",
     "library": "var_list.py",
     "varRefreshCmd": "print(var_dic_list())"
    },
    "r": {
     "delete_cmd_postfix": ") ",
     "delete_cmd_prefix": "rm(",
     "library": "var_list.r",
     "varRefreshCmd": "cat(var_dic_list()) "
    }
   },
   "types_to_exclude": [
    "module",
    "function",
    "builtin_function_or_method",
    "instance",
    "_Feature"
   ],
   "window_display": false
  }
 },
 "nbformat": 4,
 "nbformat_minor": 4
}
