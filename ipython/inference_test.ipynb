{
 "cells": [
  {
   "cell_type": "code",
   "execution_count": 1,
   "metadata": {},
   "outputs": [],
   "source": [
    "from ase import Atoms, io\n",
    "import os\n",
    "\n",
    "from attr import field\n",
    "from conf_solv.trainer import LitConfSolvModule\n",
    "from conf_solv.dataloaders.loader import create_pairdata\n",
    "from joblib import Parallel, delayed\n",
    "from rdkit import Chem\n",
    "from rdkit.Chem import AllChem\n",
    "from ase import Atoms, io\n",
    "\n",
    "import yaml\n",
    "import pickle\n",
    "import numpy as np\n",
    "\n",
    "from tqdm import tqdm\n",
    "\n",
    "import torch\n",
    "import torch_geometric as tg\n",
    "from torch_geometric.data import Batch\n",
    "\n",
    "from conf_solv.dataloaders.features import MolGraph\n",
    "from conf_solv.model.model import ConfSolv\n",
    "\n",
    "import matplotlib.pyplot as plt\n",
    "from ipywidgets import interact, fixed, IntSlider\n",
    "import ipywidgets\n",
    "from copy import deepcopy\n",
    "import sys"
   ]
  },
  {
   "cell_type": "code",
   "execution_count": 3,
   "metadata": {},
   "outputs": [],
   "source": [
    "def divide_solute_mols(solute_mols, n_anchor_mols=10, n_threshold_mols=50):\n",
    "\n",
    "    anchor_mols = solute_mols[:n_anchor_mols]\n",
    "    other_mols = solute_mols[n_anchor_mols:]\n",
    "    n_chunks = int(np.ceil(len(other_mols) / (n_threshold_mols - n_anchor_mols)))\n",
    "    batch_ids = [(i*(n_threshold_mols - n_anchor_mols), (i+1)*(n_threshold_mols - n_anchor_mols)) for i in range(n_chunks)]\n",
    "    batch_solute_mols = [anchor_mols + other_mols[a:b] for (a,b) in batch_ids]\n",
    "    \n",
    "    return batch_solute_mols"
   ]
  },
  {
   "cell_type": "code",
   "execution_count": 4,
   "metadata": {},
   "outputs": [],
   "source": [
    "def ase_atoms_from_xyz(xyz_path):\n",
    "    ase_atoms_from_xyz = io.read(xyz_path,index=':')\n",
    "    return ase_atoms_from_xyz"
   ]
  },
  {
   "cell_type": "code",
   "execution_count": 5,
   "metadata": {},
   "outputs": [],
   "source": [
    "def flatten(xss):\n",
    "    return [x for xs in xss for x in xs]"
   ]
  },
  {
   "cell_type": "code",
   "execution_count": 7,
   "metadata": {},
   "outputs": [],
   "source": [
    "def load_lightning_model(trained_model_dir,i):\n",
    "    models = [LitConfSolvModule.load_from_checkpoint(os.path.join(trained_model_dir, f'ensemble_{i}','best_model.ckpt'))]\n",
    "    return models\n",
    "\n",
    "def load_lightning_model_parallel(trained_model_dir,ensemble_nos):\n",
    "    models = Parallel(n_jobs=-1)(delayed(load_lightning_model)(j,i) for j,i in zip(trained_model_dir,ensemble_nos))\n",
    "    models = flatten(models)\n",
    "    return models"
   ]
  },
  {
   "cell_type": "code",
   "execution_count": 8,
   "metadata": {},
   "outputs": [
    {
     "name": "stdout",
     "output_type": "stream",
     "text": [
      "/home/gridsan/amenon\n"
     ]
    }
   ],
   "source": [
    "filedir = os.path.abspath('')\n",
    "print(filedir)\n",
    "all_solute_mols = ase_atoms_from_xyz(os.path.join(filedir, 'Sorbitol.xyz'))\n",
    "train_model_dir = os.path.join(filedir, 'trained_model')\n",
    "#models = load_lightning_model(train_model_dir,0)\n",
    "models = load_lightning_model_parallel([train_model_dir,train_model_dir],[0,1])"
   ]
  },
  {
   "cell_type": "code",
   "execution_count": 9,
   "metadata": {},
   "outputs": [],
   "source": [
    "# change solvent_smi for predictions in a different solvent\n",
    "solvent_smi = 'O'\n",
    "solvent_molgraph = MolGraph(solvent_smi)\n",
    "\n",
    "n_threshold_mols = 50  # change this based on available memory\n",
    "n_anchor_mols = 0"
   ]
  },
  {
   "cell_type": "code",
   "execution_count": 11,
   "metadata": {},
   "outputs": [
    {
     "name": "stdout",
     "output_type": "stream",
     "text": [
      "Atoms(symbols='C2HCHCHCHCO6H10', pbc=False)\n",
      "tensor([ 0.3961,  1.5076,  0.9889,  0.0000,  3.3721,  0.3083,  0.5833,  0.2262,\n",
      "         1.7876,  2.6018,  1.3545,  1.1030,  4.9470,  3.8986,  5.6107,  1.8101,\n",
      "         2.5145,  1.3079,  1.9797,  1.8967,  4.1142,  1.9050,  1.2115,  2.0143,\n",
      "         2.4922,  2.8834,  2.2103,  4.2980,  3.7912,  6.9620,  2.7191,  2.1850,\n",
      "         2.7436,  4.8396,  4.2468,  2.3919,  4.7684,  3.3649,  3.5369,  2.0248,\n",
      "         5.8340,  5.3886,  7.2133,  3.6751,  7.1087,  5.0277,  4.4036,  6.0227,\n",
      "         3.6257,  4.1019,  4.1506,  4.4505,  6.8924,  6.1241,  3.1425,  6.1455,\n",
      "         4.6440,  6.4665,  6.3492,  6.5471,  3.3407,  6.7249,  6.1889,  7.2840,\n",
      "         2.8383,  5.7351,  7.6066,  9.0058,  6.6597,  6.0471,  9.2460,  7.5948,\n",
      "         5.4297, 10.4291,  5.3824,  3.6197,  1.2291,  3.0416,  2.7652,  2.6863,\n",
      "         3.0006,  4.6168,  3.3285,  0.9681,  3.6667,  2.0567,  3.7257,  2.9936,\n",
      "         1.9793,  1.7227,  1.9129,  2.1252,  2.0297,  3.0101,  2.5509,  2.9880,\n",
      "         1.3878,  1.8592,  3.1732,  3.8483,  2.1546,  1.6568,  3.5706,  1.4924,\n",
      "         2.3737,  2.7539,  3.2929,  2.6809,  2.0997,  2.5644,  3.5206,  3.8264,\n",
      "         3.7630,  3.1615,  2.9886,  1.7806,  2.0411,  1.7331,  2.3249,  0.8408,\n",
      "         1.2291,  2.7535,  2.1074,  2.7026,  1.7213,  1.6721,  1.4022],\n",
      "       grad_fn=<MulBackward0>)\n",
      "tensor([0.1236, 0.1518, 0.2211, 0.2952, 0.2496, 0.7312, 0.2419, 0.0820, 0.8162,\n",
      "        0.4054, 0.3845, 0.3624, 0.1924, 0.2868, 0.1974, 0.0170, 0.1654, 0.1318,\n",
      "        0.1824, 0.1532, 0.0364, 0.0626, 0.0427, 0.3055, 0.1462, 0.2330, 0.1738,\n",
      "        0.0094, 0.6020, 0.2252, 0.2924, 0.2690, 0.1390, 0.4940, 0.2489, 0.1205,\n",
      "        0.2994, 0.1969, 0.0376, 0.4430, 0.3330, 0.7159, 0.1382, 0.4740, 0.1055,\n",
      "        0.2735, 0.2133, 0.1955, 0.1375, 0.0539, 0.4886, 0.7903, 0.1605, 1.0709,\n",
      "        0.2618, 0.0716, 0.3109, 0.3524, 0.2848, 0.0965, 0.0592, 0.6012, 0.1427,\n",
      "        0.6390, 0.4046, 0.5905, 0.0359, 0.4480, 0.0479, 0.3182, 0.6278, 0.2691,\n",
      "        0.6051, 0.2251, 0.1489, 0.3589, 0.6399, 0.4873, 0.3071, 0.1946, 0.2433,\n",
      "        0.3448, 0.3252, 0.6926, 0.2741, 0.2327, 0.0912, 0.4525, 0.2522, 0.2888,\n",
      "        0.4620, 0.1795, 0.3281, 0.1164, 0.0415, 0.0557, 0.6252, 0.5755, 0.0613,\n",
      "        0.0495, 0.0898, 0.4634, 0.3243, 0.1616, 0.6371, 0.3690, 0.5499, 0.0940,\n",
      "        0.4195, 0.1391, 0.0764, 0.1812, 0.4892, 0.3318, 0.2677, 0.1674, 0.0668,\n",
      "        0.4963, 0.6728, 0.7996, 0.5714, 0.0458, 0.1283, 0.2621, 0.3976, 0.4847,\n",
      "        0.4488], grad_fn=<MulBackward0>)\n"
     ]
    }
   ],
   "source": [
    "#batch solute mols\n",
    "# split input into [n_anchor_mols + (n_threshold_mols-n_anchor_mols)] sections\n",
    "# should only trigger when n_solute_mols > n_threshold_mols\n",
    "# ideally, n_threshold_mols is as large as possible\n",
    "if len(all_solute_mols) > n_threshold_mols:\n",
    "    batch_solute_mols = divide_solute_mols(all_solute_mols,\n",
    "                                           n_anchor_mols=n_anchor_mols,\n",
    "                                           n_threshold_mols=n_threshold_mols)\n",
    "else:\n",
    "    batch_solute_mols = [all_solute_mols]\n",
    "print(batch_solute_mols[0][0])\n",
    "n_atoms = batch_solute_mols[0][0].get_global_number_of_atoms()\n",
    "  \n",
    "out_final = torch.tensor([])\n",
    "for batch_idx, solute_mols in enumerate(batch_solute_mols):\n",
    "    data = create_pairdata(solvent_molgraph, solute_mols, len(solute_mols))\n",
    "    data.solute_confs_batch = torch.concat([torch.zeros([n_atoms],dtype=torch.int64) + i for i in range( len(solute_mols))])\n",
    "    batch_data = Batch.from_data_list([data], follow_batch=['x_solvent', 'x_solute'])\n",
    "\n",
    "    out = torch.stack([model(batch_data,len(solute_mols)) for model in models])\n",
    "    out_final = torch.cat([out_final, out], dim=-1)\n",
    "\n",
    "\n",
    "out_scaled = out_final - out_final.min(dim=1, keepdim=True).values #Scale each prediction relative to lowest energy conformer.\\n\",\n",
    "stds = out_scaled.std(dim=0)\n",
    "preds = out_scaled.mean(dim=0)\n",
    "preds = preds - preds.min()\n",
    "print(preds*0.238846)\n",
    "print(stds*0.238846)"
   ]
  },
  {
   "cell_type": "code",
   "execution_count": 26,
   "metadata": {},
   "outputs": [],
   "source": [
    "m = Chem.MolFromSmiles('[O-]C(=C)[N+]1n[N]cc1C')"
   ]
  },
  {
   "cell_type": "code",
   "execution_count": 27,
   "metadata": {},
   "outputs": [
    {
     "data": {
      "image/png": "[encoded data removed]",
      "text/plain": [
       "<rdkit.Chem.rdchem.Mol at 0x7f2af875dc60>"
      ]
     },
     "execution_count": 27,
     "metadata": {},
     "output_type": "execute_result"
    }
   ],
   "source": [
    "m"
   ]
  },
  {
   "cell_type": "code",
   "execution_count": null,
   "metadata": {},
   "outputs": [],
   "source": []
  }
 ],
 "metadata": {
  "kernelspec": {
   "display_name": "Python [conda env:.conda-ConfSolv]",
   "language": "python",
   "name": "conda-env-.conda-ConfSolv-py"
  },
  "language_info": {
   "codemirror_mode": {
    "name": "ipython",
    "version": 3
   },
   "file_extension": ".py",
   "mimetype": "text/x-python",
   "name": "python",
   "nbconvert_exporter": "python",
   "pygments_lexer": "ipython3",
   "version": "3.7.13"
  },
  "latex_envs": {
   "LaTeX_envs_menu_present": true,
   "autoclose": false,
   "autocomplete": true,
   "bibliofile": "biblio.bib",
   "cite_by": "apalike",
   "current_citInitial": 1,
   "eqLabelWithNumbers": true,
   "eqNumInitial": 1,
   "hotkeys": {
    "equation": "Ctrl-E",
    "itemize": "Ctrl-I"
   },
   "labels_anchors": false,
   "latex_user_defs": false,
   "report_style_numbering": false,
   "user_envs_cfg": false
  },
  "toc": {
   "base_numbering": 1,
   "nav_menu": {},
   "number_sections": true,
   "sideBar": true,
   "skip_h1_title": false,
   "title_cell": "Table of Contents",
   "title_sidebar": "Contents",
   "toc_cell": false,
   "toc_position": {},
   "toc_section_display": true,
   "toc_window_display": false
  },
  "varInspector": {
   "cols": {
    "lenName": 16,
    "lenType": 16,
    "lenVar": 40
   },
   "kernels_config": {
    "python": {
     "delete_cmd_postfix": "",
     "delete_cmd_prefix": "del ",
     "library": "var_list.py",
     "varRefreshCmd": "print(var_dic_list())"
    },
    "r": {
     "delete_cmd_postfix": ") ",
     "delete_cmd_prefix": "rm(",
     "library": "var_list.r",
     "varRefreshCmd": "cat(var_dic_list()) "
    }
   },
   "types_to_exclude": [
    "module",
    "function",
    "builtin_function_or_method",
    "instance",
    "_Feature"
   ],
   "window_display": false
  }
 },
 "nbformat": 4,
 "nbformat_minor": 4
}
